{
 "cells": [
  {
   "cell_type": "code",
   "execution_count": 1,
   "metadata": {},
   "outputs": [],
   "source": [
    "stringa_test = '''\n",
    "Segni di punteggiatura: \n",
    "il punto .\n",
    "la virgola ,\n",
    "il punto e virgola ;\n",
    "i due punti :\n",
    "il punto esclamativo !\n",
    "il punto interrogativo ?\n",
    "i puntini di sospensione ...\n",
    "l'asterisco *\n",
    "\n",
    "barra obliqua \\ \n",
    "slash /\n",
    "le virgolette caporali «...», o dritte \"...\", o inglesi “...”\n",
    "la barra obliqua /\n",
    "le parentesi ( )\n",
    "le lineette –\n",
    "linea bassa _\n",
    "\n",
    "Inserimento di + e - che NON DEVONO essere eliminati della funzione Python. \n",
    "\n",
    "+++++\n",
    "\n",
    "-----\n",
    "\n",
    "'''"
   ]
  },
  {
   "cell_type": "code",
   "execution_count": 2,
   "metadata": {},
   "outputs": [
    {
     "output_type": "stream",
     "name": "stdout",
     "text": [
      "{'%', '*', '&', '+', '|', '~', ',', '=', '<', '-', '>', '`', ':', ']', '}', '$', '!', '#', '@', '/', '.', \"'\", '{', '^', ')', '_', ';', '?', '\"', '\\\\', '[', '('}\n"
     ]
    }
   ],
   "source": [
    "#Print della punteggiatura per Python:\n",
    "\n",
    "import string\n",
    "\n",
    "punteggiatura = set(string.punctuation)\n",
    "print(punteggiatura)"
   ]
  },
  {
   "cell_type": "code",
   "execution_count": 3,
   "metadata": {},
   "outputs": [],
   "source": [
    "#Funzione ad hoc che elimina tutta la punteggiatura escludento i \"+\" e i \"-\"\n",
    "\n",
    "def text_replace(test_input): \n",
    "    #definisco la lista con la punteggiatura che voglio eliminare dal mio testo in input\"\n",
    "    punteggiatura_mod = ['&', '`', '@', ',', '?', '–', '”', '“','»', '«', \"'\", '<', '}', '\\\\', '/', '|', '~', '!', '$', '.', '>', ';', '#', '=', '*', ')', '%', ':', '^', '(', '[', '{', '_', '\"', ']']\n",
    "    for i in range(0, len(punteggiatura_mod)):\n",
    "        test_input=test_input.replace(punteggiatura_mod[i],\"\")\n",
    "    return test_input"
   ]
  },
  {
   "cell_type": "code",
   "execution_count": 4,
   "metadata": {},
   "outputs": [
    {
     "output_type": "stream",
     "name": "stdout",
     "text": [
      "\nSegni di punteggiatura \nil punto \nla virgola \nil punto e virgola \ni due punti \nil punto esclamativo \nil punto interrogativo \ni puntini di sospensione \nlasterisco \n\nbarra obliqua  \nslash \nle virgolette caporali  o dritte  o inglesi \nla barra obliqua \nle parentesi  \nle lineette \nlinea bassa \n\nInserimento di + e - che NON DEVONO essere eliminati della funzione Python \n\n+++++\n\n-----\n\n\n"
     ]
    }
   ],
   "source": [
    "print(text_replace(stringa_test))"
   ]
  }
 ],
 "metadata": {
  "kernelspec": {
   "name": "python371jvsc74a57bd08c6789d1511aeb02a8063e503bf8583bed8f1c0f0c037352b774cf426c4c5004",
   "display_name": "Python 3.7.1 64-bit ('base': conda)"
  }
 },
 "nbformat": 4,
 "nbformat_minor": 2
}